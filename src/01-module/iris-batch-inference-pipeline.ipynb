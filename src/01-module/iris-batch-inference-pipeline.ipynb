{
 "cells": [
  {
   "cell_type": "markdown",
   "metadata": {
    "id": "d2kLrOh-bpGy"
   },
   "source": [
    "# Iris Flower - Batch Prediction\n",
    "\n",
    "\n",
    "In this notebook we will, \n",
    "\n",
    "1. Load the batch inference data that arrived in the last 24 hours\n",
    "2. Predict the first Iris Flower found in the batch\n",
    "3. Write the ouput png of the Iris flower predicted, to be displayed in Github Pages."
   ]
  },
  {
   "cell_type": "code",
   "execution_count": 1,
   "metadata": {
    "id": "xRtpj-psbpG8"
   },
   "outputs": [
    {
     "name": "stdout",
     "output_type": "stream",
     "text": [
      "Connected. Call `.close()` to terminate connection gracefully.\n",
      "\n",
      "Logged in to project, explore it here https://c.app.hopsworks.ai:443/p/6307\n",
      "Connected. Call `.close()` to terminate connection gracefully.\n"
     ]
    },
    {
     "name": "stderr",
     "output_type": "stream",
     "text": [
      "DeprecationWarning: the imp module is deprecated in favour of importlib; see the module's documentation for alternative uses\n"
     ]
    }
   ],
   "source": [
    "import pandas as pd\n",
    "import hopsworks\n",
    "import joblib\n",
    "\n",
    "project = hopsworks.login()\n",
    "fs = project.get_feature_store()"
   ]
  },
  {
   "cell_type": "code",
   "execution_count": 2,
   "metadata": {},
   "outputs": [
    {
     "name": "stdout",
     "output_type": "stream",
     "text": [
      "Connected. Call `.close()` to terminate connection gracefully.\n",
      "Downloading file ... "
     ]
    }
   ],
   "source": [
    "mr = project.get_model_registry()\n",
    "model = mr.get_model(\"iris\", version=1)\n",
    "model_dir = model.download()\n",
    "model = joblib.load(model_dir + \"/iris_model.pkl\")"
   ]
  },
  {
   "cell_type": "markdown",
   "metadata": {},
   "source": [
    "We are downloading the 'raw' iris data. We explicitly do not want transformed data, reading for training. \n",
    "\n",
    "So, let's download the iris dataset, and preview some rows. \n",
    "\n",
    "Note, that it is 'tabular data'. There are 5 columns: 4 of them are \"features\", and the \"variety\" column is the **target** (what we are trying to predict using the 4 feature values in the target's row)."
   ]
  },
  {
   "cell_type": "code",
   "execution_count": 3,
   "metadata": {
    "colab": {
     "base_uri": "https://localhost:8080/",
     "height": 206
    },
    "id": "nRmFM7vcbpHA",
    "outputId": "d920d168-9818-40c5-c292-4cf0afcbbcfd"
   },
   "outputs": [],
   "source": [
    "feature_view = fs.get_feature_view(name=\"iris\", version=1)"
   ]
  },
  {
   "cell_type": "markdown",
   "metadata": {},
   "source": [
    "Now we will do some **Batch Inference**. \n",
    "\n",
    "We will read all the input features that have arrived in the last 24 hours, and score them."
   ]
  },
  {
   "cell_type": "code",
   "execution_count": 27,
   "metadata": {
    "id": "uHuAD3ttP8Ep"
   },
   "outputs": [
    {
     "name": "stdout",
     "output_type": "stream",
     "text": [
      "2022-11-27 13:25:46,227 INFO: USE `rec_sys1_featurestore`\n",
      "2022-11-27 13:25:47,079 INFO: SELECT `fg0`.`sepal_length` `sepal_length`, `fg0`.`sepal_width` `sepal_width`, `fg0`.`petal_length` `petal_length`, `fg0`.`petal_width` `petal_width`\n",
      "FROM `rec_sys1_featurestore`.`iris_1` `fg0`\n"
     ]
    },
    {
     "name": "stderr",
     "output_type": "stream",
     "text": [
      "UserWarning: pandas only supports SQLAlchemy connectable (engine/connection) or database string URI or sqlite3 DBAPI2 connection. Other DBAPI2 objects are not tested. Please consider using SQLAlchemy.\n"
     ]
    },
    {
     "data": {
      "text/plain": [
       "array(['Setosa', 'Versicolor', 'Virginica', 'Versicolor', 'Setosa',\n",
       "       'Versicolor', 'Virginica', 'Versicolor', 'Setosa', 'Setosa',\n",
       "       'Setosa', 'Setosa', 'Versicolor', 'Virginica', 'Setosa',\n",
       "       'Virginica', 'Versicolor', 'Setosa', 'Versicolor', 'Versicolor',\n",
       "       'Setosa', 'Versicolor', 'Setosa', 'Setosa', 'Versicolor',\n",
       "       'Versicolor', 'Virginica', 'Virginica', 'Virginica', 'Versicolor',\n",
       "       'Versicolor', 'Setosa', 'Setosa', 'Virginica', 'Setosa',\n",
       "       'Virginica', 'Setosa', 'Versicolor', 'Virginica', 'Versicolor',\n",
       "       'Virginica', 'Setosa', 'Versicolor', 'Virginica', 'Versicolor',\n",
       "       'Setosa', 'Versicolor', 'Versicolor', 'Virginica', 'Setosa',\n",
       "       'Setosa', 'Virginica', 'Virginica', 'Versicolor', 'Versicolor',\n",
       "       'Virginica', 'Versicolor', 'Versicolor', 'Versicolor', 'Setosa',\n",
       "       'Virginica', 'Virginica', 'Virginica', 'Setosa', 'Virginica',\n",
       "       'Setosa', 'Versicolor', 'Versicolor', 'Setosa', 'Setosa', 'Setosa',\n",
       "       'Virginica', 'Versicolor', 'Versicolor', 'Versicolor', 'Virginica',\n",
       "       'Versicolor', 'Virginica', 'Versicolor', 'Setosa', 'Setosa',\n",
       "       'Setosa', 'Versicolor', 'Virginica', 'Versicolor', 'Setosa',\n",
       "       'Versicolor', 'Virginica', 'Setosa', 'Virginica', 'Virginica',\n",
       "       'Virginica', 'Versicolor', 'Versicolor', 'Versicolor', 'Setosa',\n",
       "       'Setosa', 'Setosa', 'Versicolor', 'Virginica', 'Virginica',\n",
       "       'Setosa', 'Setosa', 'Versicolor', 'Virginica', 'Setosa',\n",
       "       'Versicolor', 'Virginica', 'Versicolor', 'Virginica', 'Setosa',\n",
       "       'Versicolor', 'Virginica', 'Setosa', 'Setosa', 'Versicolor',\n",
       "       'Versicolor', 'Setosa', 'Versicolor', 'Versicolor', 'Virginica',\n",
       "       'Versicolor', 'Setosa', 'Virginica', 'Versicolor', 'Virginica',\n",
       "       'Versicolor', 'Virginica', 'Virginica', 'Setosa', 'Versicolor',\n",
       "       'Versicolor', 'Setosa', 'Setosa', 'Virginica', 'Versicolor',\n",
       "       'Versicolor', 'Setosa', 'Setosa', 'Versicolor', 'Setosa',\n",
       "       'Virginica', 'Setosa', 'Setosa', 'Versicolor', 'Virginica',\n",
       "       'Virginica', 'Virginica', 'Setosa', 'Versicolor', 'Versicolor'],\n",
       "      dtype=object)"
      ]
     },
     "execution_count": 27,
     "metadata": {},
     "output_type": "execute_result"
    }
   ],
   "source": [
    "import datetime\n",
    "from PIL import Image\n",
    "\n",
    "batch_data = feature_view.get_batch_data()\n",
    "\n",
    "y_pred = model.predict(batch_data)\n",
    "\n",
    "y_pred"
   ]
  },
  {
   "cell_type": "code",
   "execution_count": 28,
   "metadata": {},
   "outputs": [
    {
     "data": {
      "text/html": [
       "<div>\n",
       "<style scoped>\n",
       "    .dataframe tbody tr th:only-of-type {\n",
       "        vertical-align: middle;\n",
       "    }\n",
       "\n",
       "    .dataframe tbody tr th {\n",
       "        vertical-align: top;\n",
       "    }\n",
       "\n",
       "    .dataframe thead th {\n",
       "        text-align: right;\n",
       "    }\n",
       "</style>\n",
       "<table border=\"1\" class=\"dataframe\">\n",
       "  <thead>\n",
       "    <tr style=\"text-align: right;\">\n",
       "      <th></th>\n",
       "      <th>sepal_length</th>\n",
       "      <th>sepal_width</th>\n",
       "      <th>petal_length</th>\n",
       "      <th>petal_width</th>\n",
       "    </tr>\n",
       "  </thead>\n",
       "  <tbody>\n",
       "    <tr>\n",
       "      <th>0</th>\n",
       "      <td>5.700000</td>\n",
       "      <td>3.800000</td>\n",
       "      <td>1.700000</td>\n",
       "      <td>0.300000</td>\n",
       "    </tr>\n",
       "    <tr>\n",
       "      <th>1</th>\n",
       "      <td>5.600000</td>\n",
       "      <td>2.700000</td>\n",
       "      <td>4.200000</td>\n",
       "      <td>1.300000</td>\n",
       "    </tr>\n",
       "    <tr>\n",
       "      <th>2</th>\n",
       "      <td>6.300000</td>\n",
       "      <td>3.300000</td>\n",
       "      <td>6.000000</td>\n",
       "      <td>2.500000</td>\n",
       "    </tr>\n",
       "    <tr>\n",
       "      <th>3</th>\n",
       "      <td>6.000000</td>\n",
       "      <td>2.900000</td>\n",
       "      <td>4.500000</td>\n",
       "      <td>1.500000</td>\n",
       "    </tr>\n",
       "    <tr>\n",
       "      <th>4</th>\n",
       "      <td>5.000000</td>\n",
       "      <td>3.000000</td>\n",
       "      <td>1.600000</td>\n",
       "      <td>0.200000</td>\n",
       "    </tr>\n",
       "    <tr>\n",
       "      <th>...</th>\n",
       "      <td>...</td>\n",
       "      <td>...</td>\n",
       "      <td>...</td>\n",
       "      <td>...</td>\n",
       "    </tr>\n",
       "    <tr>\n",
       "      <th>146</th>\n",
       "      <td>6.500000</td>\n",
       "      <td>3.000000</td>\n",
       "      <td>5.500000</td>\n",
       "      <td>1.800000</td>\n",
       "    </tr>\n",
       "    <tr>\n",
       "      <th>147</th>\n",
       "      <td>6.400000</td>\n",
       "      <td>2.800000</td>\n",
       "      <td>5.600000</td>\n",
       "      <td>2.100000</td>\n",
       "    </tr>\n",
       "    <tr>\n",
       "      <th>148</th>\n",
       "      <td>5.000000</td>\n",
       "      <td>3.400000</td>\n",
       "      <td>1.600000</td>\n",
       "      <td>0.400000</td>\n",
       "    </tr>\n",
       "    <tr>\n",
       "      <th>149</th>\n",
       "      <td>6.059125</td>\n",
       "      <td>2.669210</td>\n",
       "      <td>3.812728</td>\n",
       "      <td>1.013252</td>\n",
       "    </tr>\n",
       "    <tr>\n",
       "      <th>150</th>\n",
       "      <td>6.603807</td>\n",
       "      <td>3.447143</td>\n",
       "      <td>4.917331</td>\n",
       "      <td>1.778299</td>\n",
       "    </tr>\n",
       "  </tbody>\n",
       "</table>\n",
       "<p>151 rows × 4 columns</p>\n",
       "</div>"
      ],
      "text/plain": [
       "     sepal_length  sepal_width  petal_length  petal_width\n",
       "0        5.700000     3.800000      1.700000     0.300000\n",
       "1        5.600000     2.700000      4.200000     1.300000\n",
       "2        6.300000     3.300000      6.000000     2.500000\n",
       "3        6.000000     2.900000      4.500000     1.500000\n",
       "4        5.000000     3.000000      1.600000     0.200000\n",
       "..            ...          ...           ...          ...\n",
       "146      6.500000     3.000000      5.500000     1.800000\n",
       "147      6.400000     2.800000      5.600000     2.100000\n",
       "148      5.000000     3.400000      1.600000     0.400000\n",
       "149      6.059125     2.669210      3.812728     1.013252\n",
       "150      6.603807     3.447143      4.917331     1.778299\n",
       "\n",
       "[151 rows x 4 columns]"
      ]
     },
     "execution_count": 28,
     "metadata": {},
     "output_type": "execute_result"
    }
   ],
   "source": [
    "batch_data"
   ]
  },
  {
   "cell_type": "markdown",
   "metadata": {},
   "source": [
    "Batch prediction output is the last entry in the batch - it is output as a file 'latest_iris.png'"
   ]
  },
  {
   "cell_type": "code",
   "execution_count": 29,
   "metadata": {},
   "outputs": [],
   "source": [
    "flower = y_pred[y_pred.size-1]\n",
    "flower_img = \"assets/\" + flower + \".png\"\n",
    "img = Image.open(flower_img)            \n",
    "\n",
    "img.save(\"../../assets/latest_iris.png\")"
   ]
  },
  {
   "cell_type": "code",
   "execution_count": 30,
   "metadata": {},
   "outputs": [
    {
     "name": "stdout",
     "output_type": "stream",
     "text": [
      "2022-11-27 13:26:01,067 INFO: USE `rec_sys1_featurestore`\n",
      "2022-11-27 13:26:01,897 INFO: SELECT `fg0`.`sepal_length` `sepal_length`, `fg0`.`sepal_width` `sepal_width`, `fg0`.`petal_length` `petal_length`, `fg0`.`petal_width` `petal_width`, `fg0`.`variety` `variety`\n",
      "FROM `rec_sys1_featurestore`.`iris_1` `fg0`\n"
     ]
    },
    {
     "name": "stderr",
     "output_type": "stream",
     "text": [
      "UserWarning: pandas only supports SQLAlchemy connectable (engine/connection) or database string URI or sqlite3 DBAPI2 connection. Other DBAPI2 objects are not tested. Please consider using SQLAlchemy.\n"
     ]
    },
    {
     "data": {
      "text/html": [
       "<div>\n",
       "<style scoped>\n",
       "    .dataframe tbody tr th:only-of-type {\n",
       "        vertical-align: middle;\n",
       "    }\n",
       "\n",
       "    .dataframe tbody tr th {\n",
       "        vertical-align: top;\n",
       "    }\n",
       "\n",
       "    .dataframe thead th {\n",
       "        text-align: right;\n",
       "    }\n",
       "</style>\n",
       "<table border=\"1\" class=\"dataframe\">\n",
       "  <thead>\n",
       "    <tr style=\"text-align: right;\">\n",
       "      <th></th>\n",
       "      <th>sepal_length</th>\n",
       "      <th>sepal_width</th>\n",
       "      <th>petal_length</th>\n",
       "      <th>petal_width</th>\n",
       "      <th>variety</th>\n",
       "    </tr>\n",
       "  </thead>\n",
       "  <tbody>\n",
       "    <tr>\n",
       "      <th>0</th>\n",
       "      <td>5.700000</td>\n",
       "      <td>3.800000</td>\n",
       "      <td>1.700000</td>\n",
       "      <td>0.300000</td>\n",
       "      <td>Setosa</td>\n",
       "    </tr>\n",
       "    <tr>\n",
       "      <th>1</th>\n",
       "      <td>5.600000</td>\n",
       "      <td>2.700000</td>\n",
       "      <td>4.200000</td>\n",
       "      <td>1.300000</td>\n",
       "      <td>Versicolor</td>\n",
       "    </tr>\n",
       "    <tr>\n",
       "      <th>2</th>\n",
       "      <td>6.300000</td>\n",
       "      <td>3.300000</td>\n",
       "      <td>6.000000</td>\n",
       "      <td>2.500000</td>\n",
       "      <td>Virginica</td>\n",
       "    </tr>\n",
       "    <tr>\n",
       "      <th>3</th>\n",
       "      <td>6.000000</td>\n",
       "      <td>2.900000</td>\n",
       "      <td>4.500000</td>\n",
       "      <td>1.500000</td>\n",
       "      <td>Versicolor</td>\n",
       "    </tr>\n",
       "    <tr>\n",
       "      <th>4</th>\n",
       "      <td>5.000000</td>\n",
       "      <td>3.000000</td>\n",
       "      <td>1.600000</td>\n",
       "      <td>0.200000</td>\n",
       "      <td>Setosa</td>\n",
       "    </tr>\n",
       "    <tr>\n",
       "      <th>...</th>\n",
       "      <td>...</td>\n",
       "      <td>...</td>\n",
       "      <td>...</td>\n",
       "      <td>...</td>\n",
       "      <td>...</td>\n",
       "    </tr>\n",
       "    <tr>\n",
       "      <th>146</th>\n",
       "      <td>6.500000</td>\n",
       "      <td>3.000000</td>\n",
       "      <td>5.500000</td>\n",
       "      <td>1.800000</td>\n",
       "      <td>Virginica</td>\n",
       "    </tr>\n",
       "    <tr>\n",
       "      <th>147</th>\n",
       "      <td>6.400000</td>\n",
       "      <td>2.800000</td>\n",
       "      <td>5.600000</td>\n",
       "      <td>2.100000</td>\n",
       "      <td>Virginica</td>\n",
       "    </tr>\n",
       "    <tr>\n",
       "      <th>148</th>\n",
       "      <td>5.000000</td>\n",
       "      <td>3.400000</td>\n",
       "      <td>1.600000</td>\n",
       "      <td>0.400000</td>\n",
       "      <td>Setosa</td>\n",
       "    </tr>\n",
       "    <tr>\n",
       "      <th>149</th>\n",
       "      <td>6.059125</td>\n",
       "      <td>2.669210</td>\n",
       "      <td>3.812728</td>\n",
       "      <td>1.013252</td>\n",
       "      <td>Versicolor</td>\n",
       "    </tr>\n",
       "    <tr>\n",
       "      <th>150</th>\n",
       "      <td>6.603807</td>\n",
       "      <td>3.447143</td>\n",
       "      <td>4.917331</td>\n",
       "      <td>1.778299</td>\n",
       "      <td>Virginica</td>\n",
       "    </tr>\n",
       "  </tbody>\n",
       "</table>\n",
       "<p>151 rows × 5 columns</p>\n",
       "</div>"
      ],
      "text/plain": [
       "     sepal_length  sepal_width  petal_length  petal_width     variety\n",
       "0        5.700000     3.800000      1.700000     0.300000      Setosa\n",
       "1        5.600000     2.700000      4.200000     1.300000  Versicolor\n",
       "2        6.300000     3.300000      6.000000     2.500000   Virginica\n",
       "3        6.000000     2.900000      4.500000     1.500000  Versicolor\n",
       "4        5.000000     3.000000      1.600000     0.200000      Setosa\n",
       "..            ...          ...           ...          ...         ...\n",
       "146      6.500000     3.000000      5.500000     1.800000   Virginica\n",
       "147      6.400000     2.800000      5.600000     2.100000   Virginica\n",
       "148      5.000000     3.400000      1.600000     0.400000      Setosa\n",
       "149      6.059125     2.669210      3.812728     1.013252  Versicolor\n",
       "150      6.603807     3.447143      4.917331     1.778299   Virginica\n",
       "\n",
       "[151 rows x 5 columns]"
      ]
     },
     "execution_count": 30,
     "metadata": {},
     "output_type": "execute_result"
    }
   ],
   "source": [
    "iris_fg = fs.get_feature_group(name=\"iris\", version=1)\n",
    "df = iris_fg.read()\n",
    "df"
   ]
  },
  {
   "cell_type": "code",
   "execution_count": 31,
   "metadata": {},
   "outputs": [
    {
     "data": {
      "text/plain": [
       "'Virginica'"
      ]
     },
     "execution_count": 31,
     "metadata": {},
     "output_type": "execute_result"
    }
   ],
   "source": [
    "label = df.iloc[-1][\"variety\"]\n",
    "label"
   ]
  },
  {
   "cell_type": "code",
   "execution_count": 32,
   "metadata": {},
   "outputs": [],
   "source": [
    "label_flower = \"assets/\" + label + \".png\"\n",
    "\n",
    "img = Image.open(label_flower)            \n",
    "\n",
    "img.save(\"../../assets/actual_iris.png\")"
   ]
  },
  {
   "cell_type": "code",
   "execution_count": 33,
   "metadata": {},
   "outputs": [],
   "source": [
    "import pandas as pd\n",
    "\n",
    "monitor_fg = fs.get_or_create_feature_group(name=\"iris_predictions\",\n",
    "                                  version=1,\n",
    "                                  primary_key=[\"datetime\"],\n",
    "                                  description=\"Iris flower Prediction/Outcome Monitoring\"\n",
    "                                 )"
   ]
  },
  {
   "cell_type": "code",
   "execution_count": 34,
   "metadata": {},
   "outputs": [
    {
     "data": {
      "application/vnd.jupyter.widget-view+json": {
       "model_id": "10cc948c6c944a58ab5e448e283cef6a",
       "version_major": 2,
       "version_minor": 0
      },
      "text/plain": [
       "Uploading Dataframe: 0.00% |          | Rows 0/1 | Elapsed Time: 00:00 | Remaining Time: ?"
      ]
     },
     "metadata": {},
     "output_type": "display_data"
    },
    {
     "name": "stdout",
     "output_type": "stream",
     "text": [
      "Launching offline feature group backfill job...\n",
      "Backfill Job started successfully, you can follow the progress at \n",
      "https://c.app.hopsworks.ai/p/6307/jobs/named/iris_predictions_1_offline_fg_backfill/executions\n"
     ]
    },
    {
     "data": {
      "text/plain": [
       "(<hsfs.core.job.Job at 0x7fdca6750460>, None)"
      ]
     },
     "execution_count": 34,
     "metadata": {},
     "output_type": "execute_result"
    }
   ],
   "source": [
    "from datetime import datetime\n",
    "now = datetime.now().strftime(\"%m/%d/%Y, %H:%M:%S\")\n",
    "\n",
    "data = {\n",
    "    'prediction': [flower],\n",
    "    'label': [label],\n",
    "    'datetime': [now],\n",
    "}\n",
    "monitor_df = pd.DataFrame(data)\n",
    "monitor_fg.insert(monitor_df)"
   ]
  },
  {
   "cell_type": "code",
   "execution_count": 35,
   "metadata": {},
   "outputs": [
    {
     "name": "stdout",
     "output_type": "stream",
     "text": [
      "2022-11-27 13:27:02,277 INFO: USE `rec_sys1_featurestore`\n",
      "2022-11-27 13:27:03,437 INFO: SELECT `fg0`.`prediction` `prediction`, `fg0`.`label` `label`, `fg0`.`datetime` `datetime`\n",
      "FROM `rec_sys1_featurestore`.`iris_predictions_1` `fg0`\n"
     ]
    },
    {
     "name": "stderr",
     "output_type": "stream",
     "text": [
      "UserWarning: pandas only supports SQLAlchemy connectable (engine/connection) or database string URI or sqlite3 DBAPI2 connection. Other DBAPI2 objects are not tested. Please consider using SQLAlchemy.\n"
     ]
    },
    {
     "data": {
      "text/html": [
       "<div>\n",
       "<style scoped>\n",
       "    .dataframe tbody tr th:only-of-type {\n",
       "        vertical-align: middle;\n",
       "    }\n",
       "\n",
       "    .dataframe tbody tr th {\n",
       "        vertical-align: top;\n",
       "    }\n",
       "\n",
       "    .dataframe thead th {\n",
       "        text-align: right;\n",
       "    }\n",
       "</style>\n",
       "<table border=\"1\" class=\"dataframe\">\n",
       "  <thead>\n",
       "    <tr style=\"text-align: right;\">\n",
       "      <th></th>\n",
       "      <th>prediction</th>\n",
       "      <th>label</th>\n",
       "      <th>datetime</th>\n",
       "    </tr>\n",
       "  </thead>\n",
       "  <tbody>\n",
       "    <tr>\n",
       "      <th>0</th>\n",
       "      <td>Setosa</td>\n",
       "      <td>Setosa</td>\n",
       "      <td>11/27/2022, 13:13:04</td>\n",
       "    </tr>\n",
       "    <tr>\n",
       "      <th>1</th>\n",
       "      <td>Versicolor</td>\n",
       "      <td>Versicolor</td>\n",
       "      <td>11/27/2022, 13:21:14</td>\n",
       "    </tr>\n",
       "    <tr>\n",
       "      <th>2</th>\n",
       "      <td>Versicolor</td>\n",
       "      <td>Virginica</td>\n",
       "      <td>11/27/2022, 13:26:08</td>\n",
       "    </tr>\n",
       "  </tbody>\n",
       "</table>\n",
       "</div>"
      ],
      "text/plain": [
       "   prediction       label              datetime\n",
       "0      Setosa      Setosa  11/27/2022, 13:13:04\n",
       "1  Versicolor  Versicolor  11/27/2022, 13:21:14\n",
       "2  Versicolor   Virginica  11/27/2022, 13:26:08"
      ]
     },
     "execution_count": 35,
     "metadata": {},
     "output_type": "execute_result"
    }
   ],
   "source": [
    "history_df = monitor_fg.read()\n",
    "history_df"
   ]
  },
  {
   "cell_type": "code",
   "execution_count": 36,
   "metadata": {},
   "outputs": [
    {
     "name": "stdout",
     "output_type": "stream",
     "text": [
      "Requirement already satisfied: dataframe_image in /Users/cgopal/miniconda3/envs/serverless-env/lib/python3.9/site-packages (0.1.3)\n",
      "Requirement already satisfied: aiohttp in /Users/cgopal/miniconda3/envs/serverless-env/lib/python3.9/site-packages (from dataframe_image) (3.8.3)\n",
      "Requirement already satisfied: requests in /Users/cgopal/miniconda3/envs/serverless-env/lib/python3.9/site-packages (from dataframe_image) (2.28.1)\n",
      "Requirement already satisfied: mistune in /Users/cgopal/miniconda3/envs/serverless-env/lib/python3.9/site-packages (from dataframe_image) (0.8.4)\n",
      "Requirement already satisfied: packaging in /Users/cgopal/miniconda3/envs/serverless-env/lib/python3.9/site-packages (from dataframe_image) (21.3)\n",
      "Requirement already satisfied: matplotlib>=3.1 in /Users/cgopal/miniconda3/envs/serverless-env/lib/python3.9/site-packages (from dataframe_image) (3.6.2)\n",
      "Requirement already satisfied: nbconvert>=5 in /Users/cgopal/miniconda3/envs/serverless-env/lib/python3.9/site-packages (from dataframe_image) (6.5.4)\n",
      "Requirement already satisfied: pandas>=0.24 in /Users/cgopal/miniconda3/envs/serverless-env/lib/python3.9/site-packages (from dataframe_image) (1.5.2)\n",
      "Requirement already satisfied: beautifulsoup4 in /Users/cgopal/miniconda3/envs/serverless-env/lib/python3.9/site-packages (from dataframe_image) (4.11.1)\n",
      "Requirement already satisfied: contourpy>=1.0.1 in /Users/cgopal/miniconda3/envs/serverless-env/lib/python3.9/site-packages (from matplotlib>=3.1->dataframe_image) (1.0.6)\n",
      "Requirement already satisfied: pyparsing>=2.2.1 in /Users/cgopal/miniconda3/envs/serverless-env/lib/python3.9/site-packages (from matplotlib>=3.1->dataframe_image) (2.4.7)\n",
      "Requirement already satisfied: numpy>=1.19 in /Users/cgopal/miniconda3/envs/serverless-env/lib/python3.9/site-packages (from matplotlib>=3.1->dataframe_image) (1.23.5)\n",
      "Requirement already satisfied: fonttools>=4.22.0 in /Users/cgopal/miniconda3/envs/serverless-env/lib/python3.9/site-packages (from matplotlib>=3.1->dataframe_image) (4.38.0)\n",
      "Requirement already satisfied: pillow>=6.2.0 in /Users/cgopal/miniconda3/envs/serverless-env/lib/python3.9/site-packages (from matplotlib>=3.1->dataframe_image) (9.3.0)\n",
      "Requirement already satisfied: cycler>=0.10 in /Users/cgopal/miniconda3/envs/serverless-env/lib/python3.9/site-packages (from matplotlib>=3.1->dataframe_image) (0.11.0)\n",
      "Requirement already satisfied: python-dateutil>=2.7 in /Users/cgopal/miniconda3/envs/serverless-env/lib/python3.9/site-packages (from matplotlib>=3.1->dataframe_image) (2.8.2)\n",
      "Requirement already satisfied: kiwisolver>=1.0.1 in /Users/cgopal/miniconda3/envs/serverless-env/lib/python3.9/site-packages (from matplotlib>=3.1->dataframe_image) (1.4.4)\n",
      "Requirement already satisfied: nbclient>=0.5.0 in /Users/cgopal/miniconda3/envs/serverless-env/lib/python3.9/site-packages (from nbconvert>=5->dataframe_image) (0.7.0)\n",
      "Requirement already satisfied: pandocfilters>=1.4.1 in /Users/cgopal/miniconda3/envs/serverless-env/lib/python3.9/site-packages (from nbconvert>=5->dataframe_image) (1.5.0)\n",
      "Requirement already satisfied: tinycss2 in /Users/cgopal/miniconda3/envs/serverless-env/lib/python3.9/site-packages (from nbconvert>=5->dataframe_image) (1.2.1)\n",
      "Requirement already satisfied: traitlets>=5.0 in /Users/cgopal/miniconda3/envs/serverless-env/lib/python3.9/site-packages (from nbconvert>=5->dataframe_image) (5.5.0)\n",
      "Requirement already satisfied: jupyterlab-pygments in /Users/cgopal/miniconda3/envs/serverless-env/lib/python3.9/site-packages (from nbconvert>=5->dataframe_image) (0.2.2)\n",
      "Requirement already satisfied: lxml in /Users/cgopal/miniconda3/envs/serverless-env/lib/python3.9/site-packages (from nbconvert>=5->dataframe_image) (4.9.1)\n",
      "Requirement already satisfied: nbformat>=5.1 in /Users/cgopal/miniconda3/envs/serverless-env/lib/python3.9/site-packages (from nbconvert>=5->dataframe_image) (5.7.0)\n",
      "Requirement already satisfied: defusedxml in /Users/cgopal/miniconda3/envs/serverless-env/lib/python3.9/site-packages (from nbconvert>=5->dataframe_image) (0.7.1)\n",
      "Requirement already satisfied: jupyter-core>=4.7 in /Users/cgopal/miniconda3/envs/serverless-env/lib/python3.9/site-packages (from nbconvert>=5->dataframe_image) (5.0.0)\n",
      "Requirement already satisfied: jinja2>=3.0 in /Users/cgopal/miniconda3/envs/serverless-env/lib/python3.9/site-packages (from nbconvert>=5->dataframe_image) (3.0.3)\n",
      "Requirement already satisfied: entrypoints>=0.2.2 in /Users/cgopal/miniconda3/envs/serverless-env/lib/python3.9/site-packages (from nbconvert>=5->dataframe_image) (0.4)\n",
      "Requirement already satisfied: pygments>=2.4.1 in /Users/cgopal/miniconda3/envs/serverless-env/lib/python3.9/site-packages (from nbconvert>=5->dataframe_image) (2.13.0)\n",
      "Requirement already satisfied: MarkupSafe>=2.0 in /Users/cgopal/miniconda3/envs/serverless-env/lib/python3.9/site-packages (from nbconvert>=5->dataframe_image) (2.0.1)\n",
      "Requirement already satisfied: bleach in /Users/cgopal/miniconda3/envs/serverless-env/lib/python3.9/site-packages (from nbconvert>=5->dataframe_image) (5.0.1)\n",
      "Requirement already satisfied: pytz>=2020.1 in /Users/cgopal/miniconda3/envs/serverless-env/lib/python3.9/site-packages (from pandas>=0.24->dataframe_image) (2022.6)\n",
      "Requirement already satisfied: async-timeout<5.0,>=4.0.0a3 in /Users/cgopal/miniconda3/envs/serverless-env/lib/python3.9/site-packages (from aiohttp->dataframe_image) (4.0.2)\n",
      "Requirement already satisfied: aiosignal>=1.1.2 in /Users/cgopal/miniconda3/envs/serverless-env/lib/python3.9/site-packages (from aiohttp->dataframe_image) (1.3.1)\n",
      "Requirement already satisfied: attrs>=17.3.0 in /Users/cgopal/miniconda3/envs/serverless-env/lib/python3.9/site-packages (from aiohttp->dataframe_image) (22.1.0)\n",
      "Requirement already satisfied: multidict<7.0,>=4.5 in /Users/cgopal/miniconda3/envs/serverless-env/lib/python3.9/site-packages (from aiohttp->dataframe_image) (6.0.2)\n",
      "Requirement already satisfied: charset-normalizer<3.0,>=2.0 in /Users/cgopal/miniconda3/envs/serverless-env/lib/python3.9/site-packages (from aiohttp->dataframe_image) (2.1.1)\n",
      "Requirement already satisfied: yarl<2.0,>=1.0 in /Users/cgopal/miniconda3/envs/serverless-env/lib/python3.9/site-packages (from aiohttp->dataframe_image) (1.8.1)\n",
      "Requirement already satisfied: frozenlist>=1.1.1 in /Users/cgopal/miniconda3/envs/serverless-env/lib/python3.9/site-packages (from aiohttp->dataframe_image) (1.3.3)\n",
      "Requirement already satisfied: soupsieve>1.2 in /Users/cgopal/miniconda3/envs/serverless-env/lib/python3.9/site-packages (from beautifulsoup4->dataframe_image) (2.3.2.post1)\n",
      "Requirement already satisfied: urllib3<1.27,>=1.21.1 in /Users/cgopal/miniconda3/envs/serverless-env/lib/python3.9/site-packages (from requests->dataframe_image) (1.26.13)\n",
      "Requirement already satisfied: certifi>=2017.4.17 in /Users/cgopal/miniconda3/envs/serverless-env/lib/python3.9/site-packages (from requests->dataframe_image) (2022.9.24)\n",
      "Requirement already satisfied: idna<4,>=2.5 in /Users/cgopal/miniconda3/envs/serverless-env/lib/python3.9/site-packages (from requests->dataframe_image) (3.4)\n",
      "Requirement already satisfied: platformdirs in /Users/cgopal/miniconda3/envs/serverless-env/lib/python3.9/site-packages (from jupyter-core>=4.7->nbconvert>=5->dataframe_image) (2.5.4)\n",
      "Requirement already satisfied: jupyter-client>=6.1.5 in /Users/cgopal/miniconda3/envs/serverless-env/lib/python3.9/site-packages (from nbclient>=0.5.0->nbconvert>=5->dataframe_image) (7.4.7)\n",
      "Requirement already satisfied: nest-asyncio in /Users/cgopal/miniconda3/envs/serverless-env/lib/python3.9/site-packages (from nbclient>=0.5.0->nbconvert>=5->dataframe_image) (1.5.6)\n",
      "Requirement already satisfied: jsonschema>=2.6 in /Users/cgopal/miniconda3/envs/serverless-env/lib/python3.9/site-packages (from nbformat>=5.1->nbconvert>=5->dataframe_image) (4.17.1)\n",
      "Requirement already satisfied: fastjsonschema in /Users/cgopal/miniconda3/envs/serverless-env/lib/python3.9/site-packages (from nbformat>=5.1->nbconvert>=5->dataframe_image) (2.16.2)\n",
      "Requirement already satisfied: six>=1.5 in /Users/cgopal/miniconda3/envs/serverless-env/lib/python3.9/site-packages (from python-dateutil>=2.7->matplotlib>=3.1->dataframe_image) (1.16.0)\n",
      "Requirement already satisfied: webencodings in /Users/cgopal/miniconda3/envs/serverless-env/lib/python3.9/site-packages (from bleach->nbconvert>=5->dataframe_image) (0.5.1)\n"
     ]
    },
    {
     "name": "stdout",
     "output_type": "stream",
     "text": [
      "Requirement already satisfied: pyrsistent!=0.17.0,!=0.17.1,!=0.17.2,>=0.14.0 in /Users/cgopal/miniconda3/envs/serverless-env/lib/python3.9/site-packages (from jsonschema>=2.6->nbformat>=5.1->nbconvert>=5->dataframe_image) (0.19.2)\r\n",
      "Requirement already satisfied: pyzmq>=23.0 in /Users/cgopal/miniconda3/envs/serverless-env/lib/python3.9/site-packages (from jupyter-client>=6.1.5->nbclient>=0.5.0->nbconvert>=5->dataframe_image) (24.0.1)\r\n",
      "Requirement already satisfied: tornado>=6.2 in /Users/cgopal/miniconda3/envs/serverless-env/lib/python3.9/site-packages (from jupyter-client>=6.1.5->nbclient>=0.5.0->nbconvert>=5->dataframe_image) (6.2)\r\n"
     ]
    }
   ],
   "source": [
    "# !python -m pip install dataframe_image"
   ]
  },
  {
   "cell_type": "code",
   "execution_count": 40,
   "metadata": {},
   "outputs": [],
   "source": [
    "import dataframe_image as dfi\n",
    "\n",
    "df_recent = history_df.tail(5)\n",
    " \n",
    "# If you exclude this image, you may have the same iris_latest.png and iris_actual.png files\n",
    "# If no files have changed, the GH-action 'git commit/push' stage fails, failing your GH action (last step)\n",
    "# This image, however, is always new, ensuring git commit/push will succeed.\n",
    "dfi.export(df_recent, '../../assets/df_recent.png', table_conversion = 'matplotlib')"
   ]
  },
  {
   "cell_type": "code",
   "execution_count": 38,
   "metadata": {},
   "outputs": [
    {
     "name": "stdout",
     "output_type": "stream",
     "text": [
      "[[1 0 0]\n",
      " [0 1 0]\n",
      " [0 1 0]]\n"
     ]
    }
   ],
   "source": [
    "from sklearn.metrics import confusion_matrix\n",
    "\n",
    "predictions = history_df[['prediction']]\n",
    "labels = history_df[['label']]\n",
    "\n",
    "results = confusion_matrix(labels, predictions)\n",
    "print(results)"
   ]
  },
  {
   "cell_type": "code",
   "execution_count": 39,
   "metadata": {},
   "outputs": [
    {
     "data": {
      "image/png": "[encoded data removed]",
      "text/plain": [
       "<Figure size 640x480 with 2 Axes>"
      ]
     },
     "metadata": {},
     "output_type": "display_data"
    }
   ],
   "source": [
    "from matplotlib import pyplot\n",
    "import seaborn as sns\n",
    "\n",
    "# Only create the confusion matrix when our iris_predictions feature group has examples of all 3 iris flowers\n",
    "if results.shape == (3,3):\n",
    "\n",
    "    df_cm = pd.DataFrame(results, ['True Setosa', 'True Versicolor', 'True Virginica'],\n",
    "                         ['Pred Setosa', 'Pred Versicolor', 'Pred Virginica'])\n",
    "\n",
    "    cm = sns.heatmap(df_cm, annot=True)\n",
    "\n",
    "    fig = cm.get_figure()\n",
    "    fig.savefig(\"../../assets/confusion_matrix.png\") \n",
    "    df_cm\n",
    "else:\n",
    "    print(\"Run the batch inference pipeline more times until you get 3 different iris flowers\")    "
   ]
  },
  {
   "cell_type": "code",
   "execution_count": null,
   "metadata": {},
   "outputs": [],
   "source": []
  }
 ],
 "metadata": {
  "colab": {
   "collapsed_sections": [],
   "provenance": []
  },
  "kernelspec": {
   "display_name": "Python 3 (ipykernel)",
   "language": "python",
   "name": "python3"
  },
  "language_info": {
   "codemirror_mode": {
    "name": "ipython",
    "version": 3
   },
   "file_extension": ".py",
   "mimetype": "text/x-python",
   "name": "python",
   "nbconvert_exporter": "python",
   "pygments_lexer": "ipython3",
   "version": "3.9.15"
  },
  "vscode": {
   "interpreter": {
    "hash": "b0fa6594d8f4cbf19f97940f81e996739fb7646882a419484c72d19e05852a7e"
   }
  }
 },
 "nbformat": 4,
 "nbformat_minor": 1
}
